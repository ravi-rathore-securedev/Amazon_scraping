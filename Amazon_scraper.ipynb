{
 "cells": [
  {
   "cell_type": "code",
   "execution_count": 1,
   "id": "a32de885",
   "metadata": {},
   "outputs": [
    {
     "name": "stdout",
     "output_type": "stream",
     "text": [
      "Requirement already satisfied: autoscraper in c:\\users\\wwwra\\anaconda3\\lib\\site-packages (1.1.14)\n",
      "Requirement already satisfied: requests in c:\\users\\wwwra\\anaconda3\\lib\\site-packages (from autoscraper) (2.31.0)\n",
      "Requirement already satisfied: bs4 in c:\\users\\wwwra\\anaconda3\\lib\\site-packages (from autoscraper) (0.0.2)\n",
      "Requirement already satisfied: lxml in c:\\users\\wwwra\\anaconda3\\lib\\site-packages (from autoscraper) (4.9.3)\n",
      "Requirement already satisfied: beautifulsoup4 in c:\\users\\wwwra\\anaconda3\\lib\\site-packages (from bs4->autoscraper) (4.12.2)\n",
      "Requirement already satisfied: charset-normalizer<4,>=2 in c:\\users\\wwwra\\anaconda3\\lib\\site-packages (from requests->autoscraper) (2.0.4)\n",
      "Requirement already satisfied: idna<4,>=2.5 in c:\\users\\wwwra\\anaconda3\\lib\\site-packages (from requests->autoscraper) (3.4)\n",
      "Requirement already satisfied: urllib3<3,>=1.21.1 in c:\\users\\wwwra\\anaconda3\\lib\\site-packages (from requests->autoscraper) (1.26.16)\n",
      "Requirement already satisfied: certifi>=2017.4.17 in c:\\users\\wwwra\\anaconda3\\lib\\site-packages (from requests->autoscraper) (2023.7.22)\n",
      "Requirement already satisfied: soupsieve>1.2 in c:\\users\\wwwra\\anaconda3\\lib\\site-packages (from beautifulsoup4->bs4->autoscraper) (2.4)\n",
      "Note: you may need to restart the kernel to use updated packages.\n"
     ]
    }
   ],
   "source": [
    "pip install autoscraper"
   ]
  },
  {
   "cell_type": "code",
   "execution_count": 2,
   "id": "4524a748",
   "metadata": {},
   "outputs": [],
   "source": [
    "from autoscraper import AutoScraper"
   ]
  },
  {
   "cell_type": "code",
   "execution_count": 25,
   "id": "30ad9cd1",
   "metadata": {},
   "outputs": [],
   "source": [
    "scraper = AutoScraper()"
   ]
  },
  {
   "cell_type": "code",
   "execution_count": 32,
   "id": "e0416394",
   "metadata": {},
   "outputs": [],
   "source": [
    "amazon_url ='https://www.amazon.in/s?k=keyboard&crid=26W0I9TYMZZIG&sprefix=keyboard%2Caps%2C382&ref=nb_sb_noss_1'\n",
    "wanted_list = [\"Zebronics ZEB-KM2100 Multimedia USB Keyboard Comes with 114 Keys Including 12 Dedicated Multimedia Keys & with Rupee Key\", \"₹249\"]"
   ]
  },
  {
   "cell_type": "code",
   "execution_count": 33,
   "id": "0d4a5afa",
   "metadata": {},
   "outputs": [],
   "source": [
    "result=scraper.build(amazon_url,wanted_list)"
   ]
  },
  {
   "cell_type": "code",
   "execution_count": 34,
   "id": "44dbd49e",
   "metadata": {},
   "outputs": [
    {
     "name": "stdout",
     "output_type": "stream",
     "text": [
      "['Best sellerin Keyboards', 'Zebronics ZEB-KM2100 Multimedia USB Keyboard Comes with 114 Keys Including 12 Dedicated Multimedia Keys & with Rupee Key', 'ZEBRONICS K24 USB Keyboard with Long Life 8 Million Keystrokes, Silent & Comfortable Use, Slim Design, Retractable Stand, 1.3 Meter Textured Cable, Chiclet Keys and Uv Coated Keycaps', 'Amazon Basics Wired Multimedia Keyboard with 107 Keys, USB 2.0 Interface, for Gaming Pc, Computer, Laptop, Mac', 'Amazon\\'s Choicefor \"keyboard\"', 'Dell KB216-Black Multimedia Wired Keyboard with USB Interface, Plunger Keys Technology and Chiclet Key Style, Hot Key-Volume, Mute, Play/Pause, Backward, Forward, Warranty 1 Year.', 'Ant Value FKBRI01 Ultra-Slim Compact USB Wired Keyboard for Mac and PC,Windows 10/8 / 7 / Vista/XP, Spill-Resistant Silent Keyboard – Membrane Water-Resistant Coating 10 Million Keystrokes (Black)', 'HP K100 Wired Keyboard, Quick, Comfy and Accurate, USB Plug & Play Setup,LED Indicators(7J4G1AA)', 'ZEBRONICS USB Keyboard with Rupee Key, USB Interface and Retractable stand - K20', 'HP K160 Wireless Keyboard/Quick Comfy accurate/12 Fn Shortcut Keys/Plug and Play USB/ 3 Years Warranty, Black', 'RPM Euro Games Gaming Keyboard Wired 7 Color LED Illuminated & Spill Proof Keys, Black, Medium', 'Ant Esports MK 1700 Wired Membrane Gaming Keyboard –with Backlit RGB LED, USB-A Connection, Quiet Keystrokes, 12 Multimedia Function Keys - for Computer, PC, Desktop, Gamer– 1 Year Warranty–Mercury', 'HP 150 Wired Keyboard, Quick, Comfy and Ergonomically Design, 12Fn Shortcut Keys, Plug and Play USB Connection and LED Indicator, 3 years warranty', 'Best sellerin Gaming Keyboards', 'Zebronics Transformer Gaming Keyboard and Mouse Combo,Braided Cable,Durable Al body,Multimedia keys and Gaming Mouse with 6 Buttons, Multi-Color LED Lights, High-Resolution Sensor with 3200 DPI(Black)', 'Ant Esports MK1400 Pro Backlit Membrane Wired Gaming Keyboard with Mixed Colour Lighting, White & Black Keycaps, Double Injection Key Caps - Black', 'Best sellerin Keyboard & Mouse Sets', 'Dell KM3322W Wireless USB Keyboard and Mouse Combo, Anti-Fade & Spill-Resistant Keys, up to 36 Month Battery Life, 3Y Advance Exchange Warranty - Black', 'RPM Euro Games Gaming Keyboard Wired | 87 Keys Space Saving Design | Membrane Keyboard with Mechanical Feel | LED Backlit & Spill Proof Design', 'Ant Value FKBRI02 Wired Keyboard and Mouse Combo,Full-Size Keyboard and Mouse Combo with Optical 3 Button Mouse, USB Plug-and-Play, Compatible with Desktop, Laptop, Notebook - Black', 'ZEBRONICS K24 USB Keyboard with Long Life 8 Million Keystrokes, Silent & Comfortable Use, Slim Design, Retractable Stand, ...', 'Dell KB216-Black Multimedia Wired Keyboard with USB Interface, Plunger Keys Technology and Chiclet Key Style, Hot Key-Volu...', 'Ant Value FKBRI01 Ultra-Slim Compact USB Wired Keyboard for Mac and PC,Windows 10/8 / 7 / Vista/XP, Spill-Resistant Silent...', 'Ant Esports MK 1700 Wired Membrane Gaming Keyboard –with Backlit RGB LED, USB-A Connection, Quiet Keystrokes, 12 Multimedi...', 'HP 150 Wired Keyboard, Quick, Comfy and Ergonomically Design, 12Fn Shortcut Keys, Plug and Play USB Connection and LED Ind...', 'Zebronics Transformer Gaming Keyboard and Mouse Combo,Braided Cable,Durable Al body,Multimedia keys and Gaming Mouse with ...', 'Ant Esports MK1400 Pro Backlit Membrane Wired Gaming Keyboard with Mixed Colour Lighting, White & Black Keycaps, Double In...', 'Dell KM3322W Wireless USB Keyboard and Mouse Combo, Anti-Fade & Spill-Resistant Keys, up to 36 Month Battery Life, 3Y Adva...', 'RPM Euro Games Gaming Keyboard Wired | 87 Keys Space Saving Design | Membrane Keyboard with Mechanical Feel | LED Backlit...', 'Ant Value FKBRI02 Wired Keyboard and Mouse Combo,Full-Size Keyboard and Mouse Combo with Optical 3 Button Mouse, USB Plug-...', '₹249', '₹349', '₹339', '₹569', '₹299', '₹599', '₹849', '₹549', '₹619', '₹629', '₹1,299', '₹609', '₹1,249', '₹699', '₹289']\n"
     ]
    }
   ],
   "source": [
    "print(result)"
   ]
  },
  {
   "cell_type": "code",
   "execution_count": 35,
   "id": "e0f7a98d",
   "metadata": {},
   "outputs": [
    {
     "data": {
      "text/plain": [
       "{'rule_hf2e': ['Best sellerin Keyboards',\n",
       "  'Zebronics ZEB-KM2100 Multimedia USB Keyboard Comes with 114 Keys Including 12 Dedicated Multimedia Keys & with Rupee Key',\n",
       "  'ZEBRONICS K24 USB Keyboard with Long Life 8 Million Keystrokes, Silent & Comfortable Use, Slim Design, Retractable Stand, 1.3 Meter Textured Cable, Chiclet Keys and Uv Coated Keycaps',\n",
       "  'Amazon\\'s Choicefor \"keyboard\"',\n",
       "  'Dell KB216-Black Multimedia Wired Keyboard with USB Interface, Plunger Keys Technology and Chiclet Key Style, Hot Key-Volume, Mute, Play/Pause, Backward, Forward, Warranty 1 Year.',\n",
       "  'Ant Value FKBRI01 Ultra-Slim Compact USB Wired Keyboard for Mac and PC,Windows 10/8 / 7 / Vista/XP, Spill-Resistant Silent Keyboard – Membrane Water-Resistant Coating 10 Million Keystrokes (Black)',\n",
       "  'ZEBRONICS USB Keyboard with Rupee Key, USB Interface and Retractable stand - K20',\n",
       "  'Amazon Basics Wired Multimedia Keyboard with 107 Keys, USB 2.0 Interface, for Gaming Pc, Computer, Laptop, Mac',\n",
       "  'HP K100 Wired Keyboard, Quick, Comfy and Accurate, USB Plug & Play Setup,LED Indicators(7J4G1AA)',\n",
       "  'Ant Esports MK 1700 Wired Membrane Gaming Keyboard –with Backlit RGB LED, USB-A Connection, Quiet Keystrokes, 12 Multimedia Function Keys - for Computer, PC, Desktop, Gamer– 1 Year Warranty–Mercury',\n",
       "  'RPM Euro Games Gaming Keyboard Wired 7 Color LED Illuminated & Spill Proof Keys, Black, Medium',\n",
       "  'Best sellerin Gaming Keyboards',\n",
       "  'Zebronics Transformer Gaming Keyboard and Mouse Combo,Braided Cable,Durable Al body,Multimedia keys and Gaming Mouse with 6 Buttons, Multi-Color LED Lights, High-Resolution Sensor with 3200 DPI(Black)',\n",
       "  'Ant Value FKBRI02 Wired Keyboard and Mouse Combo,Full-Size Keyboard and Mouse Combo with Optical 3 Button Mouse, USB Plug-and-Play, Compatible with Desktop, Laptop, Notebook - Black',\n",
       "  'HP K160 Wireless Keyboard/Quick Comfy accurate/12 Fn Shortcut Keys/Plug and Play USB/ 3 Years Warranty, Black',\n",
       "  'Logitech K480 Wireless Multi-Device Keyboard For Windows, Macos, Ipados, Android Or Chrome Os, Bluetooth, Compact, Compatible With Pc, Mac, Laptop, Smartphone, Tablet - Black',\n",
       "  'HP 350 Compact Multi-Device Bluetooth Keyboard; Spill Resistant; Swift Pair; OS Auto-Detection, LED Indicator, Battery Life Up to 24 Months, 3 years warranty',\n",
       "  'Zebronics Zeb-Companion 107 USB Wireless Keyboard and Mouse Set with Nano Receiver (Black)',\n",
       "  'Best sellerin Keyboard & Mouse Sets',\n",
       "  'Dell KM3322W Wireless USB Keyboard and Mouse Combo, Anti-Fade & Spill-Resistant Keys, up to 36 Month Battery Life, 3Y Advance Exchange Warranty - Black'],\n",
       " 'rule_uvvm': ['Zebronics ZEB-KM2100 Multimedia USB Keyboard Comes with 114 Keys Including 12 Dedicated Multimedia Keys & with Rupee Key',\n",
       "  'ZEBRONICS K24 USB Keyboard with Long Life 8 Million Keystrokes, Silent & Comfortable Use, Slim Design, Retractable Stand, ...',\n",
       "  'Dell KB216-Black Multimedia Wired Keyboard with USB Interface, Plunger Keys Technology and Chiclet Key Style, Hot Key-Volu...',\n",
       "  'Ant Value FKBRI01 Ultra-Slim Compact USB Wired Keyboard for Mac and PC,Windows 10/8 / 7 / Vista/XP, Spill-Resistant Silent...',\n",
       "  'ZEBRONICS USB Keyboard with Rupee Key, USB Interface and Retractable stand - K20',\n",
       "  'Amazon Basics Wired Multimedia Keyboard with 107 Keys, USB 2.0 Interface, for Gaming Pc, Computer, Laptop, Mac',\n",
       "  'HP K100 Wired Keyboard, Quick, Comfy and Accurate, USB Plug & Play Setup,LED Indicators(7J4G1AA)',\n",
       "  'Ant Esports MK 1700 Wired Membrane Gaming Keyboard –with Backlit RGB LED, USB-A Connection, Quiet Keystrokes, 12 Multimedi...',\n",
       "  'RPM Euro Games Gaming Keyboard Wired 7 Color LED Illuminated & Spill Proof Keys, Black, Medium',\n",
       "  'Zebronics Transformer Gaming Keyboard and Mouse Combo,Braided Cable,Durable Al body,Multimedia keys and Gaming Mouse with ...',\n",
       "  'Ant Value FKBRI02 Wired Keyboard and Mouse Combo,Full-Size Keyboard and Mouse Combo with Optical 3 Button Mouse, USB Plug-...',\n",
       "  'HP K160 Wireless Keyboard/Quick Comfy accurate/12 Fn Shortcut Keys/Plug and Play USB/ 3 Years Warranty, Black',\n",
       "  'Logitech K480 Wireless Multi-Device Keyboard For Windows, Macos, Ipados, Android Or Chrome Os, Bluetooth, Compact, Compati...',\n",
       "  'HP 350 Compact Multi-Device Bluetooth Keyboard; Spill Resistant; Swift Pair; OS Auto-Detection, LED Indicator, Battery Lif...',\n",
       "  'Zebronics Zeb-Companion 107 USB Wireless Keyboard and Mouse Set with Nano Receiver (Black)',\n",
       "  'Dell KM3322W Wireless USB Keyboard and Mouse Combo, Anti-Fade & Spill-Resistant Keys, up to 36 Month Battery Life, 3Y Adva...'],\n",
       " 'rule_9q6o': ['₹249',\n",
       "  '₹349',\n",
       "  '₹569',\n",
       "  '₹299',\n",
       "  '₹299',\n",
       "  '₹339',\n",
       "  '₹599',\n",
       "  '₹619',\n",
       "  '₹549',\n",
       "  '₹1,299',\n",
       "  '₹289',\n",
       "  '₹849',\n",
       "  '₹1,999',\n",
       "  '₹1,499',\n",
       "  '₹649',\n",
       "  '₹1,249'],\n",
       " 'rule_mnlu': ['₹249',\n",
       "  '₹349',\n",
       "  '₹569',\n",
       "  '₹299',\n",
       "  '₹299',\n",
       "  '₹339',\n",
       "  '₹599',\n",
       "  '₹619',\n",
       "  '₹549',\n",
       "  '₹1,299',\n",
       "  '₹289',\n",
       "  '₹849',\n",
       "  '₹1,999',\n",
       "  '₹1,499',\n",
       "  '₹649',\n",
       "  '₹1,249']}"
      ]
     },
     "execution_count": 35,
     "metadata": {},
     "output_type": "execute_result"
    }
   ],
   "source": [
    "scraper.get_result_similar(amazon_url,grouped=True)"
   ]
  },
  {
   "cell_type": "code",
   "execution_count": 38,
   "id": "d1081204",
   "metadata": {},
   "outputs": [],
   "source": [
    "# scraper.set_rule_aliases({'rule_xog7':'Title','rule_342w':'price'})\n",
    "# scraper.keep_rules(['rule_h5jq','rule_342w'])\n",
    "scraper_result = scraper.get_result_similar(amazon_url, grouped=True)\n",
    "\n",
    "# Assuming the first 3 keys correspond to Title, Description, and Price respectively\n",
    "scraper.set_rule_aliases({\n",
    "    list(scraper_result.keys())[0]: 'Title',\n",
    "    list(scraper_result.keys())[1]: 'Desc',\n",
    "    list(scraper_result.keys())[2]: 'Price'\n",
    "})\n",
    "\n",
    "scraper.save('amazon-search')"
   ]
  },
  {
   "cell_type": "code",
   "execution_count": 39,
   "id": "5727e959",
   "metadata": {},
   "outputs": [
    {
     "data": {
      "text/plain": [
       "{'Title': ['Best sellerin Keyboards',\n",
       "  'Zebronics ZEB-KM2100 Multimedia USB Keyboard Comes with 114 Keys Including 12 Dedicated Multimedia Keys & with Rupee Key',\n",
       "  'ZEBRONICS K24 USB Keyboard with Long Life 8 Million Keystrokes, Silent & Comfortable Use, Slim Design, Retractable Stand, 1.3 Meter Textured Cable, Chiclet Keys and Uv Coated Keycaps',\n",
       "  'Amazon Basics Wired Multimedia Keyboard with 107 Keys, USB 2.0 Interface, for Gaming Pc, Computer, Laptop, Mac',\n",
       "  'Amazon\\'s Choicefor \"keyboard\"',\n",
       "  'Dell KB216-Black Multimedia Wired Keyboard with USB Interface, Plunger Keys Technology and Chiclet Key Style, Hot Key-Volume, Mute, Play/Pause, Backward, Forward, Warranty 1 Year.',\n",
       "  'Ant Value FKBRI01 Ultra-Slim Compact USB Wired Keyboard for Mac and PC,Windows 10/8 / 7 / Vista/XP, Spill-Resistant Silent Keyboard – Membrane Water-Resistant Coating 10 Million Keystrokes (Black)',\n",
       "  'HP K100 Wired Keyboard, Quick, Comfy and Accurate, USB Plug & Play Setup,LED Indicators(7J4G1AA)',\n",
       "  'ZEBRONICS USB Keyboard with Rupee Key, USB Interface and Retractable stand - K20',\n",
       "  'HP K160 Wireless Keyboard/Quick Comfy accurate/12 Fn Shortcut Keys/Plug and Play USB/ 3 Years Warranty, Black',\n",
       "  'RPM Euro Games Gaming Keyboard Wired 7 Color LED Illuminated & Spill Proof Keys, Black, Medium',\n",
       "  'Ant Esports MK 1700 Wired Membrane Gaming Keyboard –with Backlit RGB LED, USB-A Connection, Quiet Keystrokes, 12 Multimedia Function Keys - for Computer, PC, Desktop, Gamer– 1 Year Warranty–Mercury',\n",
       "  'HP 150 Wired Keyboard, Quick, Comfy and Ergonomically Design, 12Fn Shortcut Keys, Plug and Play USB Connection and LED Indicator, 3 years warranty',\n",
       "  'Best sellerin Gaming Keyboards',\n",
       "  'Zebronics Transformer Gaming Keyboard and Mouse Combo,Braided Cable,Durable Al body,Multimedia keys and Gaming Mouse with 6 Buttons, Multi-Color LED Lights, High-Resolution Sensor with 3200 DPI(Black)',\n",
       "  'Ant Esports MK1400 Pro Backlit Membrane Wired Gaming Keyboard with Mixed Colour Lighting, White & Black Keycaps, Double Injection Key Caps - Black',\n",
       "  'RPM Euro Games Gaming Keyboard Wired | 87 Keys Space Saving Design | Membrane Keyboard with Mechanical Feel | LED Backlit & Spill Proof Design',\n",
       "  'Ant Value FKBRI02 Wired Keyboard and Mouse Combo,Full-Size Keyboard and Mouse Combo with Optical 3 Button Mouse, USB Plug-and-Play, Compatible with Desktop, Laptop, Notebook - Black',\n",
       "  'Best sellerin Keyboard & Mouse Sets',\n",
       "  'Dell KM3322W Wireless USB Keyboard and Mouse Combo, Anti-Fade & Spill-Resistant Keys, up to 36 Month Battery Life, 3Y Advance Exchange Warranty - Black'],\n",
       " 'Desc': ['Zebronics ZEB-KM2100 Multimedia USB Keyboard Comes with 114 Keys Including 12 Dedicated Multimedia Keys & with Rupee Key',\n",
       "  'ZEBRONICS K24 USB Keyboard with Long Life 8 Million Keystrokes, Silent & Comfortable Use, Slim Design, Retractable Stand, ...',\n",
       "  'Amazon Basics Wired Multimedia Keyboard with 107 Keys, USB 2.0 Interface, for Gaming Pc, Computer, Laptop, Mac',\n",
       "  'Dell KB216-Black Multimedia Wired Keyboard with USB Interface, Plunger Keys Technology and Chiclet Key Style, Hot Key-Volu...',\n",
       "  'Ant Value FKBRI01 Ultra-Slim Compact USB Wired Keyboard for Mac and PC,Windows 10/8 / 7 / Vista/XP, Spill-Resistant Silent...',\n",
       "  'HP K100 Wired Keyboard, Quick, Comfy and Accurate, USB Plug & Play Setup,LED Indicators(7J4G1AA)',\n",
       "  'ZEBRONICS USB Keyboard with Rupee Key, USB Interface and Retractable stand - K20',\n",
       "  'HP K160 Wireless Keyboard/Quick Comfy accurate/12 Fn Shortcut Keys/Plug and Play USB/ 3 Years Warranty, Black',\n",
       "  'RPM Euro Games Gaming Keyboard Wired 7 Color LED Illuminated & Spill Proof Keys, Black, Medium',\n",
       "  'Ant Esports MK 1700 Wired Membrane Gaming Keyboard –with Backlit RGB LED, USB-A Connection, Quiet Keystrokes, 12 Multimedi...',\n",
       "  'HP 150 Wired Keyboard, Quick, Comfy and Ergonomically Design, 12Fn Shortcut Keys, Plug and Play USB Connection and LED Ind...',\n",
       "  'Zebronics Transformer Gaming Keyboard and Mouse Combo,Braided Cable,Durable Al body,Multimedia keys and Gaming Mouse with ...',\n",
       "  'Ant Esports MK1400 Pro Backlit Membrane Wired Gaming Keyboard with Mixed Colour Lighting, White & Black Keycaps, Double In...',\n",
       "  'RPM Euro Games Gaming Keyboard Wired | 87 Keys Space Saving Design | Membrane Keyboard with Mechanical Feel | LED Backlit...',\n",
       "  'Ant Value FKBRI02 Wired Keyboard and Mouse Combo,Full-Size Keyboard and Mouse Combo with Optical 3 Button Mouse, USB Plug-...',\n",
       "  'Dell KM3322W Wireless USB Keyboard and Mouse Combo, Anti-Fade & Spill-Resistant Keys, up to 36 Month Battery Life, 3Y Adva...'],\n",
       " 'Price': ['₹249',\n",
       "  '₹349',\n",
       "  '₹339',\n",
       "  '₹569',\n",
       "  '₹299',\n",
       "  '₹599',\n",
       "  '₹299',\n",
       "  '₹849',\n",
       "  '₹549',\n",
       "  '₹619',\n",
       "  '₹629',\n",
       "  '₹1,299',\n",
       "  '₹609',\n",
       "  '₹699',\n",
       "  '₹289',\n",
       "  '₹1,249'],\n",
       " '': ['₹249',\n",
       "  '₹349',\n",
       "  '₹339',\n",
       "  '₹569',\n",
       "  '₹299',\n",
       "  '₹599',\n",
       "  '₹299',\n",
       "  '₹849',\n",
       "  '₹549',\n",
       "  '₹619',\n",
       "  '₹629',\n",
       "  '₹1,299',\n",
       "  '₹609',\n",
       "  '₹699',\n",
       "  '₹289',\n",
       "  '₹1,249']}"
      ]
     },
     "execution_count": 39,
     "metadata": {},
     "output_type": "execute_result"
    }
   ],
   "source": [
    "scraper.get_result_similar('https://www.amazon.in/s?k=keyboard&crid=26W0I9TYMZZIG&sprefix=keyboard%2Caps%2C382&ref=nb_sb_noss_1',group_by_alias=True)"
   ]
  },
  {
   "cell_type": "code",
   "execution_count": null,
   "id": "3d7e30d5",
   "metadata": {},
   "outputs": [],
   "source": []
  },
  {
   "cell_type": "code",
   "execution_count": null,
   "id": "bdc1efe7",
   "metadata": {},
   "outputs": [],
   "source": []
  },
  {
   "cell_type": "code",
   "execution_count": null,
   "id": "cee652e8",
   "metadata": {},
   "outputs": [],
   "source": []
  }
 ],
 "metadata": {
  "kernelspec": {
   "display_name": "Python 3 (ipykernel)",
   "language": "python",
   "name": "python3"
  },
  "language_info": {
   "codemirror_mode": {
    "name": "ipython",
    "version": 3
   },
   "file_extension": ".py",
   "mimetype": "text/x-python",
   "name": "python",
   "nbconvert_exporter": "python",
   "pygments_lexer": "ipython3",
   "version": "3.11.5"
  }
 },
 "nbformat": 4,
 "nbformat_minor": 5
}
